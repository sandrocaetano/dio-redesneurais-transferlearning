{
  "nbformat": 4,
  "nbformat_minor": 0,
  "metadata": {
    "colab": {
      "provenance": [],
      "authorship_tag": "ABX9TyObZgRf7kSvdNweNZcVsB9G",
      "include_colab_link": true
    },
    "kernelspec": {
      "name": "python3",
      "display_name": "Python 3"
    },
    "language_info": {
      "name": "python"
    }
  },
  "cells": [
    {
      "cell_type": "markdown",
      "metadata": {
        "id": "view-in-github",
        "colab_type": "text"
      },
      "source": [
        "<a href=\"https://colab.research.google.com/github/sandrocaetano/dio-redesneurais-transferlearning/blob/main/binarizacao.ipynb\" target=\"_parent\"><img src=\"https://colab.research.google.com/assets/colab-badge.svg\" alt=\"Open In Colab\"/></a>"
      ]
    },
    {
      "cell_type": "code",
      "execution_count": 10,
      "metadata": {
        "colab": {
          "base_uri": "https://localhost:8080/"
        },
        "id": "0NuRcjqCLmkE",
        "outputId": "cc824003-c6e8-4632-c894-baa13f5ab2e7"
      },
      "outputs": [
        {
          "output_type": "stream",
          "name": "stdout",
          "text": [
            "Imagens processadas e salvas com sucesso!\n"
          ]
        }
      ],
      "source": [
        "def carregar_imagem(caminho):\n",
        "    with open(caminho, 'rb') as f:\n",
        "        import matplotlib.image as mpimg\n",
        "        return mpimg.imread(f)\n",
        "\n",
        "def salvar_imagem(caminho, imagem):\n",
        "    from PIL import Image\n",
        "    img = Image.fromarray(imagem.astype('uint8'))\n",
        "    img.save(caminho)\n",
        "\n",
        "def converter_tons_de_cinza(imagem):\n",
        "    return (imagem[..., 0] * 0.3 + imagem[..., 1] * 0.59 + imagem[..., 2] * 0.11).astype(int)\n",
        "\n",
        "def binarizar(imagem, limiar=128):\n",
        "    return (imagem > limiar).astype(int) * 255\n",
        "\n",
        "# Caminho da imagem de entrada e saída\n",
        "imagem_original = \"batgirl.jpeg\"\n",
        "imagem_cinza_original = \"imagem_cinza.jpeg\"\n",
        "imagem_binarizada_original = \"imagem_binarizada.jpeg\"\n",
        "\n",
        "# Processar a imagem\n",
        "imagem = carregar_imagem(imagem_original)\n",
        "imagem_cinza = converter_tons_de_cinza(imagem)\n",
        "salvar_imagem(imagem_cinza_original, imagem_cinza)\n",
        "\n",
        "imagem_binarizada = binarizar(imagem_cinza)\n",
        "salvar_imagem(imagem_binarizada_original, imagem_binarizada)\n",
        "\n",
        "print(\"Imagens processadas e salvas com sucesso!\")"
      ]
    }
  ]
}