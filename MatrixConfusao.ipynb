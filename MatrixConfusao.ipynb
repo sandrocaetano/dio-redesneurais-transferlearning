{
  "nbformat": 4,
  "nbformat_minor": 0,
  "metadata": {
    "colab": {
      "provenance": [],
      "authorship_tag": "ABX9TyPjyxxs89KmZpU+NWzRWFaQ",
      "include_colab_link": true
    },
    "kernelspec": {
      "name": "python3",
      "display_name": "Python 3"
    },
    "language_info": {
      "name": "python"
    }
  },
  "cells": [
    {
      "cell_type": "markdown",
      "metadata": {
        "id": "view-in-github",
        "colab_type": "text"
      },
      "source": [
        "<a href=\"https://colab.research.google.com/github/sandrocaetano/dio-redesneurais-transferlearning/blob/main/MatrixConfusao.ipynb\" target=\"_parent\"><img src=\"https://colab.research.google.com/assets/colab-badge.svg\" alt=\"Open In Colab\"/></a>"
      ]
    },
    {
      "cell_type": "code",
      "execution_count": 4,
      "metadata": {
        "colab": {
          "base_uri": "https://localhost:8080/"
        },
        "id": "qPvGLpsbQdQ-",
        "outputId": "8af1e1fd-6c34-49e4-b8db-00b00077249f"
      },
      "outputs": [
        {
          "output_type": "stream",
          "name": "stdout",
          "text": [
            "  \u001b[1;31merror\u001b[0m: \u001b[1msubprocess-exited-with-error\u001b[0m\n",
            "  \n",
            "  \u001b[31m×\u001b[0m \u001b[32mpython setup.py egg_info\u001b[0m did not run successfully.\n",
            "  \u001b[31m│\u001b[0m exit code: \u001b[1;36m1\u001b[0m\n",
            "  \u001b[31m╰─>\u001b[0m See above for output.\n",
            "  \n",
            "  \u001b[1;35mnote\u001b[0m: This error originates from a subprocess, and is likely not a problem with pip.\n",
            "  Preparing metadata (setup.py) ... \u001b[?25l\u001b[?25herror\n",
            "\u001b[1;31merror\u001b[0m: \u001b[1mmetadata-generation-failed\u001b[0m\n",
            "\n",
            "\u001b[31m×\u001b[0m Encountered error while generating package metadata.\n",
            "\u001b[31m╰─>\u001b[0m See above for output.\n",
            "\n",
            "\u001b[1;35mnote\u001b[0m: This is an issue with the package mentioned above, not pip.\n",
            "\u001b[1;36mhint\u001b[0m: See above for details.\n"
          ]
        }
      ],
      "source": [
        "!pip install -q tensorflow-gpu\n",
        "\n"
      ]
    },
    {
      "cell_type": "code",
      "source": [
        "from tensorflow.keras import datasets, layers, models\n",
        "import matplotlib.pyplot as plt\n",
        "import tensorflow as tf\n",
        "import numpy as np\n",
        "import seaborn as sns\n",
        "import pandas as pd"
      ],
      "metadata": {
        "id": "x2fTxHl2Q8gq"
      },
      "execution_count": 6,
      "outputs": []
    },
    {
      "cell_type": "code",
      "source": [
        "tf.__version__"
      ],
      "metadata": {
        "colab": {
          "base_uri": "https://localhost:8080/",
          "height": 35
        },
        "id": "Tq691xNUROtU",
        "outputId": "1028daa9-7de6-4149-da20-13faaabf8964"
      },
      "execution_count": 7,
      "outputs": [
        {
          "output_type": "execute_result",
          "data": {
            "text/plain": [
              "'2.17.1'"
            ],
            "application/vnd.google.colaboratory.intrinsic+json": {
              "type": "string"
            }
          },
          "metadata": {},
          "execution_count": 7
        }
      ]
    },
    {
      "cell_type": "code",
      "source": [
        "%load_ext tensorboard"
      ],
      "metadata": {
        "id": "rDd4hhoxRR1A"
      },
      "execution_count": 8,
      "outputs": []
    },
    {
      "cell_type": "code",
      "source": [
        "logdir='log'"
      ],
      "metadata": {
        "id": "BpRn_oxxRWBU"
      },
      "execution_count": 9,
      "outputs": []
    },
    {
      "cell_type": "code",
      "source": [
        "(train_images, train_labels), (test_images, test_labels) = datasets.mnist.load_data()\n",
        "\n",
        "train_images = train_images.reshape((train_images.shape[0], 28, 28, 1))\n",
        "test_images = test_images.reshape((test_images.shape[0], 28, 28, 1))\n",
        "\n",
        "train_images, test_images = train_images / 255.0, test_images / 255.0\n",
        "\n",
        "classes=[0,1,2,3,4,5,6,7,8,9]"
      ],
      "metadata": {
        "id": "aAmbcZMBReCR"
      },
      "execution_count": 36,
      "outputs": []
    },
    {
      "cell_type": "code",
      "source": [
        "model = models.Sequential()\n",
        "model.add(layers.Conv2D(32, (3,3), activation='relu', input_shape=(28,28,1)))\n",
        "model.add(layers.MaxPooling2D((2,2)))\n",
        "model.add(layers.Conv2D(64, (3,3), activation='relu'))\n",
        "model.add(layers.MaxPooling2D((2,2)))\n",
        "model.add(layers.Conv2D(64, (3,3), activation='relu'))\n",
        "\n",
        "model.add(layers.Flatten())\n",
        "model.add(layers.Dense(64, activation='relu'))\n",
        "model.add(layers.Dense(10, activation='softmax'))"
      ],
      "metadata": {
        "id": "HZjTBDweTOHa"
      },
      "execution_count": 37,
      "outputs": []
    },
    {
      "cell_type": "code",
      "source": [
        "tensorboard_callback = tf.keras.callbacks.TensorBoard(logdir, histogram_freq=1)"
      ],
      "metadata": {
        "id": "shPK7yKyUVhw"
      },
      "execution_count": 38,
      "outputs": []
    },
    {
      "cell_type": "code",
      "source": [
        "model.compile(optimizer='adam',\n",
        "              loss='sparse_categorical_crossentropy',\n",
        "              metrics=['accuracy'])\n",
        "\n",
        "model.fit(x=train_images,\n",
        "          y=train_labels,\n",
        "          epochs=5,\n",
        "          validation_data=(test_images, test_labels))"
      ],
      "metadata": {
        "colab": {
          "base_uri": "https://localhost:8080/"
        },
        "id": "4vSn8jGZUmaV",
        "outputId": "bce7b2e9-360a-4c0d-c1dc-13c446eb798b"
      },
      "execution_count": 39,
      "outputs": [
        {
          "output_type": "stream",
          "name": "stdout",
          "text": [
            "Epoch 1/5\n",
            "\u001b[1m1875/1875\u001b[0m \u001b[32m━━━━━━━━━━━━━━━━━━━━\u001b[0m\u001b[37m\u001b[0m \u001b[1m56s\u001b[0m 29ms/step - accuracy: 0.8930 - loss: 0.3502 - val_accuracy: 0.9840 - val_loss: 0.0523\n",
            "Epoch 2/5\n",
            "\u001b[1m1875/1875\u001b[0m \u001b[32m━━━━━━━━━━━━━━━━━━━━\u001b[0m\u001b[37m\u001b[0m \u001b[1m82s\u001b[0m 29ms/step - accuracy: 0.9855 - loss: 0.0476 - val_accuracy: 0.9871 - val_loss: 0.0359\n",
            "Epoch 3/5\n",
            "\u001b[1m1875/1875\u001b[0m \u001b[32m━━━━━━━━━━━━━━━━━━━━\u001b[0m\u001b[37m\u001b[0m \u001b[1m81s\u001b[0m 29ms/step - accuracy: 0.9898 - loss: 0.0324 - val_accuracy: 0.9906 - val_loss: 0.0311\n",
            "Epoch 4/5\n",
            "\u001b[1m1875/1875\u001b[0m \u001b[32m━━━━━━━━━━━━━━━━━━━━\u001b[0m\u001b[37m\u001b[0m \u001b[1m84s\u001b[0m 30ms/step - accuracy: 0.9923 - loss: 0.0245 - val_accuracy: 0.9899 - val_loss: 0.0326\n",
            "Epoch 5/5\n",
            "\u001b[1m1875/1875\u001b[0m \u001b[32m━━━━━━━━━━━━━━━━━━━━\u001b[0m\u001b[37m\u001b[0m \u001b[1m82s\u001b[0m 30ms/step - accuracy: 0.9932 - loss: 0.0210 - val_accuracy: 0.9897 - val_loss: 0.0382\n"
          ]
        },
        {
          "output_type": "execute_result",
          "data": {
            "text/plain": [
              "<keras.src.callbacks.history.History at 0x7e039bd6c7f0>"
            ]
          },
          "metadata": {},
          "execution_count": 39
        }
      ]
    },
    {
      "cell_type": "code",
      "source": [
        "y_true=test_labels\n",
        "y_pred = model.predict(test_images)\n",
        "y_pred = np.argmax(model.predict(test_images), axis=1)"
      ],
      "metadata": {
        "colab": {
          "base_uri": "https://localhost:8080/"
        },
        "id": "xEQlxQBVV9Z_",
        "outputId": "bd76d413-9233-49e3-daca-b3220dea1b16"
      },
      "execution_count": 40,
      "outputs": [
        {
          "output_type": "stream",
          "name": "stdout",
          "text": [
            "\u001b[1m313/313\u001b[0m \u001b[32m━━━━━━━━━━━━━━━━━━━━\u001b[0m\u001b[37m\u001b[0m \u001b[1m3s\u001b[0m 8ms/step\n",
            "\u001b[1m313/313\u001b[0m \u001b[32m━━━━━━━━━━━━━━━━━━━━\u001b[0m\u001b[37m\u001b[0m \u001b[1m4s\u001b[0m 12ms/step\n"
          ]
        }
      ]
    },
    {
      "cell_type": "code",
      "source": [
        "classes=[0,1,2,3,4,5,6,7,8,9]"
      ],
      "metadata": {
        "id": "zoPX9zDbWEMt"
      },
      "execution_count": 41,
      "outputs": []
    },
    {
      "cell_type": "code",
      "source": [
        "con_mat = tf.math.confusion_matrix(labels=y_true, predictions=y_pred).numpy()\n",
        "con_mat_norm = np.around(con_mat.astype('float')/con_mat.sum(axis=1)[:,np.newaxis], decimals=2)\n",
        "\n",
        "con_mat_df = pd.DataFrame(con_mat_norm,\n",
        "                          index = classes,\n",
        "                          columns = classes)\n",
        "\n",
        "figure = plt.figure(figsize=(8,8))\n",
        "sns.heatmap(con_mat_df, annot=True, cmap=plt.cm.Blues)\n",
        "plt.tight_layout()\n",
        "plt.ylabel('True Label')\n",
        "plt.xlabel('Predicted Label')\n",
        "plt.show()\n"
      ],
      "metadata": {
        "colab": {
          "base_uri": "https://localhost:8080/",
          "height": 826
        },
        "id": "nnOaRLbLXDUG",
        "outputId": "e9adb417-9a1c-4bc5-bba9-3646151ea600"
      },
      "execution_count": 43,
      "outputs": [
        {
          "output_type": "display_data",
          "data": {
            "text/plain": [
              "<Figure size 800x800 with 2 Axes>"
            ],
            "image/png": "[encoded data removed]"
          },
          "metadata": {}
        }
      ]
    },
    {
      "cell_type": "code",
      "source": [
        "n_classes = con_mat_norm.shape[0]\n",
        "metrics = []\n",
        "\n",
        "# Calcular métricas para cada classe\n",
        "for i in range(n_classes):\n",
        "    VP = con_mat_norm[i, i]\n",
        "    FP = con_mat_norm[:, i].sum() - VP\n",
        "    FN = con_mat_norm[i, :].sum() - VP\n",
        "    VN = con_mat_norm.sum() - (VP + FP + FN)\n",
        "\n",
        "    # Calcular métricas\n",
        "    precision = VP / (VP + FP) if (VP + FP) != 0 else 0\n",
        "    recall = VP / (VP + FN) if (VP + FN) != 0 else 0\n",
        "    f1_score = 2 * (precision * recall) / (precision + recall) if (precision + recall) != 0 else 0\n",
        "    accuracy = (VP + VN) / con_mat_norm.sum()\n",
        "\n",
        "    metrics.append({\n",
        "        \"Classe\": i,\n",
        "        \"Precisão\": precision,\n",
        "        \"Sensibilidade\": recall,\n",
        "        \"F1-Score\": f1_score,\n",
        "        \"Acurácia\": accuracy\n",
        "    })\n",
        "\n",
        "# Exibir métricas para cada classe\n",
        "for m in metrics:\n",
        "    print(f\"Classe {m['Classe']}:\")\n",
        "    print(f\" - Precisão: {m['Precisão']:.2f}\")\n",
        "    print(f\" - Sensibilidade (Recall): {m['Sensibilidade']:.2f}\")\n",
        "    print(f\" - F1-Score: {m['F1-Score']:.2f}\")\n",
        "    print(f\" - Acurácia: {m['Acurácia']:.2f}\\n\")"
      ],
      "metadata": {
        "colab": {
          "base_uri": "https://localhost:8080/"
        },
        "id": "2wz7DzIOZAfJ",
        "outputId": "c31d0201-70f7-4237-e9a2-ea90af9afdd3"
      },
      "execution_count": 45,
      "outputs": [
        {
          "output_type": "stream",
          "name": "stdout",
          "text": [
            "Classe 0:\n",
            " - Precisão: 1.00\n",
            " - Sensibilidade (Recall): 1.00\n",
            " - F1-Score: 1.00\n",
            " - Acurácia: 1.00\n",
            "\n",
            "Classe 1:\n",
            " - Precisão: 1.00\n",
            " - Sensibilidade (Recall): 1.00\n",
            " - F1-Score: 1.00\n",
            " - Acurácia: 1.00\n",
            "\n",
            "Classe 2:\n",
            " - Precisão: 1.00\n",
            " - Sensibilidade (Recall): 0.99\n",
            " - F1-Score: 0.99\n",
            " - Acurácia: 1.00\n",
            "\n",
            "Classe 3:\n",
            " - Precisão: 1.00\n",
            " - Sensibilidade (Recall): 0.99\n",
            " - F1-Score: 0.99\n",
            " - Acurácia: 1.00\n",
            "\n",
            "Classe 4:\n",
            " - Precisão: 0.97\n",
            " - Sensibilidade (Recall): 1.00\n",
            " - F1-Score: 0.99\n",
            " - Acurácia: 1.00\n",
            "\n",
            "Classe 5:\n",
            " - Precisão: 0.99\n",
            " - Sensibilidade (Recall): 1.00\n",
            " - F1-Score: 0.99\n",
            " - Acurácia: 1.00\n",
            "\n",
            "Classe 6:\n",
            " - Precisão: 1.00\n",
            " - Sensibilidade (Recall): 0.99\n",
            " - F1-Score: 0.99\n",
            " - Acurácia: 1.00\n",
            "\n",
            "Classe 7:\n",
            " - Precisão: 1.00\n",
            " - Sensibilidade (Recall): 1.00\n",
            " - F1-Score: 1.00\n",
            " - Acurácia: 1.00\n",
            "\n",
            "Classe 8:\n",
            " - Precisão: 0.99\n",
            " - Sensibilidade (Recall): 1.00\n",
            " - F1-Score: 0.99\n",
            " - Acurácia: 1.00\n",
            "\n",
            "Classe 9:\n",
            " - Precisão: 1.00\n",
            " - Sensibilidade (Recall): 0.98\n",
            " - F1-Score: 0.99\n",
            " - Acurácia: 1.00\n",
            "\n"
          ]
        }
      ]
    }
  ]
}